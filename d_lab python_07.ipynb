{
 "cells": [
  {
   "cell_type": "code",
   "execution_count": 8,
   "metadata": {
    "collapsed": true
   },
   "outputs": [],
   "source": [
    "import sqlite3\n",
    "conn = sqlite3.connect('test.db')"
   ]
  },
  {
   "cell_type": "code",
   "execution_count": 9,
   "metadata": {
    "collapsed": false
   },
   "outputs": [
    {
     "name": "stdout",
     "output_type": "stream",
     "text": [
      "(1, 'yan', 0.0)\n",
      "(2, 'mars', 2.0)\n",
      "(3, 'wu', 10.0)\n",
      "(4, 'peter', 3.5)\n",
      "(5, 'su', 2.0)\n"
     ]
    }
   ],
   "source": [
    "sql = \"SELECT * FROM `user`\"\n",
    "cursor = conn.execute(sql)\n",
    "for row in cursor.fetchall():\n",
    "    print (row)"
   ]
  },
  {
   "cell_type": "code",
   "execution_count": 11,
   "metadata": {
    "collapsed": false
   },
   "outputs": [
    {
     "name": "stdout",
     "output_type": "stream",
     "text": [
      "3 wu\n",
      "5 su\n"
     ]
    }
   ],
   "source": [
    "sql = \"SELECT `sn`,`name` FROM `user` WHERE `name` LIKE '%u%'\"\n",
    "cursor = conn.execute(sql)\n",
    "for row in cursor.fetchall():\n",
    "    sn,name = row[0],row[1]  \n",
    "    # sn,name = row         # 因為row也只有兩格，剛好對應到sn,name，所以可以偷懶寫成這樣 \n",
    "    print (sn,name)"
   ]
  },
  {
   "cell_type": "code",
   "execution_count": 13,
   "metadata": {
    "collapsed": false
   },
   "outputs": [
    {
     "name": "stdout",
     "output_type": "stream",
     "text": [
      "[(3, 'wu'), (5, 'su')]\n"
     ]
    }
   ],
   "source": [
    "sql = \"SELECT `sn`,`name` FROM `user` WHERE `name` LIKE '%u%'\"\n",
    "cursor = conn.execute(sql)\n",
    "print (list(cursor.fetchall()))\n",
    "for row in cursor.fetchall():\n",
    "    print (row)"
   ]
  },
  {
   "cell_type": "code",
   "execution_count": 14,
   "metadata": {
    "collapsed": false
   },
   "outputs": [
    {
     "name": "stdout",
     "output_type": "stream",
     "text": [
      "(3, 'wu')\n",
      "(5, 'su')\n",
      "[]\n"
     ]
    }
   ],
   "source": [
    "sql = \"SELECT `sn`,`name` FROM `user` WHERE `name` LIKE '%u%'\"\n",
    "cursor = conn.execute(sql)\n",
    "for row in cursor.fetchall():\n",
    "    print (row)\n",
    "print (list(cursor.fetchall()))\n"
   ]
  },
  {
   "cell_type": "code",
   "execution_count": 16,
   "metadata": {
    "collapsed": false
   },
   "outputs": [
    {
     "name": "stdout",
     "output_type": "stream",
     "text": [
      "3 wu <class 'sqlite3.Row'>\n",
      "5 su <class 'sqlite3.Row'>\n"
     ]
    }
   ],
   "source": [
    "import sqlite3\n",
    "conn = sqlite3.connect('test.db')\n",
    "conn.row_factory = sqlite3.Row ###\n",
    "\n",
    "sql = \"SELECT `sn`,`name` FROM `user` WHERE `name` LIKE '%u%'\"\n",
    "cursor = conn.execute(sql)\n",
    "for row in cursor.fetchall():\n",
    "    print (row['sn'],row['name'],type(row))\n",
    "\n",
    "conn.close()"
   ]
  },
  {
   "cell_type": "code",
   "execution_count": 17,
   "metadata": {
    "collapsed": false
   },
   "outputs": [
    {
     "name": "stdout",
     "output_type": "stream",
     "text": [
      "3 wu <class 'tuple'>\n",
      "5 su <class 'tuple'>\n"
     ]
    }
   ],
   "source": [
    "import sqlite3\n",
    "conn = sqlite3.connect('test.db')\n",
    "\n",
    "sql = \"SELECT `sn`,`name` FROM `user` WHERE `name` LIKE '%u%'\"\n",
    "cursor = conn.execute(sql)\n",
    "for row in cursor.fetchall():\n",
    "    print (row[0],row[1],type(row))\n",
    "\n",
    "conn.close()"
   ]
  },
  {
   "cell_type": "code",
   "execution_count": null,
   "metadata": {
    "collapsed": true
   },
   "outputs": [],
   "source": [
    "filein = open(\"foodne.csv\")\n",
    "data = filein.read().split(\"\\n\")[1:] #第一行是欄標題，不需要\n",
    "\n",
    "csv_key_index = [\"n\",\"la\",\"pl\",\"ty\",\"name\",\"ft\",\"lo\",\"money\"]\n",
    "for line in data:\n",
    "    line = line.replace(\"\\xa0\",\"\")\n",
    "    columns = line.split(\",\")\n",
    "    columns_list = []\n",
    "    count = 0\n",
    "    now_data = \"\"\n",
    "\n",
    "    # 檢查有沒有column 因為內容包含,被切斷，需要把他們合併起來\n",
    "    for column in columns:\n",
    "        if \"\\\"\" in column:  # 有包含,的內容，會以\"包起來，所以就是檢查是否有落單的\"\n",
    "            count+= 1\n",
    "        \n",
    "        if count!=0:        # 如果有出現落單的\"，就一直把資料相加\n",
    "            now_data+= column\n",
    "        \n",
    "        if count==0:\n",
    "            columns_list.append(column)\n",
    "        elif count ==2:     # 如果發現已經有成對的\"，就算合併完成，可以丟到columns_list中\n",
    "            now_data = now_data.replace(\"\\\"\", \"\")\n",
    "            columns_list.append(now_data)\n",
    "            now_data = \"\"\n",
    "            count = 0\n",
    "\n",
    "    print (columns_list) \n",
    "    break # 會跳出最近一層的迴圈(while,for)，配合 print 可以幫忙debug\n",
    "\n",
    "filein.close()"
   ]
  },
  {
   "cell_type": "code",
   "execution_count": null,
   "metadata": {
    "collapsed": true
   },
   "outputs": [],
   "source": [
    "filein = open(\"movie_metadata.csv\")\n",
    "data = filein.read().split(\"\\n\")[1:] #第一行是欄標題，不需要\n",
    "\n",
    "# 欄位名稱，如果希望用key,value的方式存取資料，下方串列可以拿來利用!\n",
    "csv_key_index = ['color','director_name','num_critic_for_reviews','duration','director_facebook_likes','actor_3_facebook_likes','actor_2_name','actor_1_facebook_likes','gross','genres','actor_1_name','movie_title','num_voted_users','cast_total_facebook_likes','actor_3_name','facenumber_in_poster','plot_keywords','movie_imdb_link','num_user_for_reviews','language','country','content_rating','budget','title_year','actor_2_facebook_likes','imdb_score','aspect_ratio','movie_facebook_likes']\n",
    "for line in data:\n",
    "    line = line.replace(\"\\xa0\",\"\")\n",
    "    columns = line.split(\",\")\n",
    "    columns_list = []\n",
    "    count = 0\n",
    "    now_data = \"\"\n",
    "\n",
    "    # 檢查有沒有column 因為內容包含,被切斷，需要把他們合併起來\n",
    "    for column in columns:\n",
    "        if \"\\\"\" in column:  # 有包含,的內容，會以\"包起來，所以就是檢查是否有落單的\"\n",
    "            count+= 1\n",
    "        \n",
    "        if count!=0:        # 如果有出現落單的\"，就一直把資料相加\n",
    "            now_data+= column\n",
    "        \n",
    "        if count==0:\n",
    "            columns_list.append(column)\n",
    "        elif count ==2:     # 如果發現已經有成對的\"，就算合併完成，可以丟到columns_list中\n",
    "            now_data = now_data.replace(\"\\\"\", \"\")\n",
    "            columns_list.append(now_data)\n",
    "            now_data = \"\"\n",
    "            count = 0\n",
    "\n",
    "    print (columns_list) \n",
    "    break # 會跳出最近一層的迴圈(while,for)，配合 print 可以幫忙debug\n",
    "\n",
    "filein.close()\n"
   ]
  },
  {
   "cell_type": "code",
   "execution_count": null,
   "metadata": {
    "collapsed": true
   },
   "outputs": [],
   "source": [
    "csv_key_index = ['color','director_name','num_critic_for_reviews','duration','director_facebook_likes','actor_3_facebook_likes','actor_2_name','actor_1_facebook_likes','gross','genres','actor_1_name','movie_title','num_voted_users','cast_total_facebook_likes','actor_3_name','facenumber_in_poster','plot_keywords','movie_imdb_link','num_user_for_reviews','language','country','content_rating','budget','title_year','actor_2_facebook_likes','imdb_score','aspect_ratio','movie_facebook_likes']\n",
    "csv_dict = {}\n",
    "\n",
    "index = 0\n",
    "for value in csv_key_index:\n",
    "    print (index,value)\n",
    "    csv_dict[value]=index\n",
    "    index+=1\n",
    "\n",
    "print (csv_dict)"
   ]
  },
  {
   "cell_type": "code",
   "execution_count": null,
   "metadata": {
    "collapsed": true
   },
   "outputs": [],
   "source": []
  }
 ],
 "metadata": {
  "anaconda-cloud": {},
  "kernelspec": {
   "display_name": "Python [conda root]",
   "language": "python",
   "name": "conda-root-py"
  },
  "language_info": {
   "codemirror_mode": {
    "name": "ipython",
    "version": 3
   },
   "file_extension": ".py",
   "mimetype": "text/x-python",
   "name": "python",
   "nbconvert_exporter": "python",
   "pygments_lexer": "ipython3",
   "version": "3.5.2"
  }
 },
 "nbformat": 4,
 "nbformat_minor": 1
}
