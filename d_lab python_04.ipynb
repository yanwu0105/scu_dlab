{
 "cells": [
  {
   "cell_type": "code",
   "execution_count": 2,
   "metadata": {
    "collapsed": false
   },
   "outputs": [
    {
     "name": "stdout",
     "output_type": "stream",
     "text": [
      "the 10\n"
     ]
    }
   ],
   "source": [
    "article = \"\"\"\n",
    "Marvel braves a stumble with each dip into its grab bag of second-tier, less-recognizable characters.\n",
    "But it won't come with \"Doctor Strange,\" an extremely entertaining and sure-footed adaptation that manages to conjure more than enough magic to easily pass its spell check.\n",
    "\n",
    "Much of that has to do with a splendid cast, led by Benedict Cumberbatch.\n",
    "Having top-flight actors -- including Chiwetel Ejiofor, Tilda Swinton and Mads Mikkelsen -- is especially helpful with this enterprise.\n",
    "That's because some of the mystical-mumbo-jumbo dialogue -- as in, \"Dormammu dwells in the dark dimension\" -- could sound stilted or silly tripping off less talented tongues.\n",
    "Largely faithful to the comics, the film tells a straightforward origin story -- in hindsight, an area where Marvel has generally excelled.\n",
    "\n",
    "The first \"Iron Man,\" for example, is far more satisfying than either of its sequels.\n",
    "A brilliant neurosurgeon, Dr. Stephen Strange has his million-dollar hands mangled in a terrible car accident.\n",
    "\n",
    "The closing credits might elicit the biggest laugh with a disclaimer warning about the dangers of distracted driving.\n",
    "Desperate to be restored, Strange begins exploring alternative means of healing, a search that ultimately leads him to Nepal, a hidden retreat and a bald sage known as the Ancient One (Tilda Swinton, in glorious-weirdness mode).\n",
    "Aided by her chief lieutenant Mordo (Ejiofor), they train him in the mystic arts.\n",
    "\"\"\"\n",
    "_symbol = [\",\",\":\",\";\",\"?\",\"!\",\"(\",\")\",\"\\\"\",\"$\",\"[\",\"]\",\"{\",\"}\",\"\\n\",\"\\t\",\"-\",\".\"]\n",
    "\n",
    "clean_article = article\n",
    "for i in _symbol:\n",
    "    clean_article = clean_article.replace(i,\" \")\n",
    "for i in range(ord('A'),ord('Z')):\n",
    "    clean_article = clean_article.replace(chr(i),chr(i+32))\n",
    "split_article = clean_article.split(\" \")\n",
    "max_count = 0\n",
    "max_word = \"\"\n",
    "for word in split_article:\n",
    "    if word and split_article.count(word)>max_count:\n",
    "        max_count = split_article.count(word)\n",
    "        max_word = word\n",
    "print (max_word,max_count)    "
   ]
  },
  {
   "cell_type": "code",
   "execution_count": 6,
   "metadata": {
    "collapsed": false
   },
   "outputs": [
    {
     "name": "stdout",
     "output_type": "stream",
     "text": [
      "[1, 2, 3, 4, 5]\n",
      "[5, 4, 3, 2, 1]\n"
     ]
    }
   ],
   "source": [
    "simple_list = [1,5,3,4,2]\n",
    "print (sorted(simple_list))\n",
    "print (sorted(simple_list,reverse=True))"
   ]
  },
  {
   "cell_type": "code",
   "execution_count": 28,
   "metadata": {
    "collapsed": false
   },
   "outputs": [
    {
     "name": "stdout",
     "output_type": "stream",
     "text": [
      "[['marvel', 2], ['braves', 1], ['a', 9], ['stumble', 1], ['with', 5], ['each', 1], ['dip', 1], ['into', 1], ['its', 3], ['grab', 1], ['bag', 1], ['of', 6], ['second', 1], ['tier', 1], ['less', 2], ['recognizable', 1], ['characters', 1], ['but', 1], ['it', 1], [\"won't\", 1], ['come', 1], ['doctor', 1], ['strange', 3], ['an', 2], ['extremely', 1], ['entertaining', 1], ['and', 3], ['sure', 1], ['footed', 1], ['adaptation', 1], ['that', 3], ['manages', 1], ['to', 6], ['conjure', 1], ['more', 2], ['than', 2], ['enough', 1], ['magic', 1], ['easily', 1], ['pass', 1], ['spell', 1], ['check', 1], ['much', 1], ['has', 3], ['do', 1], ['splendid', 1], ['cast', 1], ['led', 1], ['by', 2], ['benedict', 1], ['cumberbatch', 1], ['having', 1], ['top', 1], ['flight', 1], ['actors', 1], ['including', 1], ['chiwetel', 1], ['ejiofor', 2], ['tilda', 2], ['swinton', 2], ['mads', 1], ['mikkelsen', 1], ['is', 2], ['especially', 1], ['helpful', 1], ['this', 1], ['enterprise', 1], [\"that's\", 1], ['because', 1], ['some', 1], ['the', 10], ['mystical', 1], ['mumbo', 1], ['jumbo', 1], ['dialogue', 1], ['as', 2], ['in', 6], ['dormammu', 1], ['dwells', 1], ['dark', 1], ['dimension', 1], ['could', 1], ['sound', 1], ['stilted', 1], ['or', 1], ['silly', 1], ['tripping', 1], ['off', 1], ['talented', 1], ['tongues', 1], ['largely', 1], ['faithful', 1], ['comics', 1], ['film', 1], ['tells', 1], ['straightforward', 1], ['origin', 1], ['story', 1], ['hindsight', 1], ['area', 1], ['where', 1], ['generally', 1], ['excelled', 1], ['first', 1], ['iron', 1], ['man', 1], ['for', 1], ['example', 1], ['far', 1], ['satisfying', 1], ['either', 1], ['sequels', 1], ['brilliant', 1], ['neurosurgeon', 1], ['dr', 1], ['stephen', 1], ['his', 1], ['million', 1], ['dollar', 1], ['hands', 1], ['mangled', 1], ['terrible', 1], ['car', 1], ['accident', 1], ['closing', 1], ['credits', 1], ['might', 1], ['elicit', 1], ['biggest', 1], ['laugh', 1], ['disclaimer', 1], ['warning', 1], ['about', 1], ['dangers', 1], ['distracted', 1], ['driving', 1], ['desperate', 1], ['be', 1], ['restored', 1], ['begins', 1], ['exploring', 1], ['alternative', 1], ['means', 1], ['healing', 1], ['search', 1], ['ultimately', 1], ['leads', 1], ['him', 2], ['nepal', 1], ['hidden', 1], ['retreat', 1], ['bald', 1], ['sage', 1], ['known', 1], ['ancient', 1], ['one', 1], ['glorious', 1], ['weirdness', 1], ['mode', 1], ['aided', 1], ['her', 1], ['chief', 1], ['lieutenant', 1], ['mordo', 1], ['they', 1], ['train', 1], ['mystic', 1], ['arts', 1]]\n"
     ]
    }
   ],
   "source": [
    "article = \"\"\"\n",
    "Marvel braves a stumble with each dip into its grab bag of second-tier, less-recognizable characters.\n",
    "But it won't come with \"Doctor Strange,\" an extremely entertaining and sure-footed adaptation that manages to conjure more than enough magic to easily pass its spell check.\n",
    "\n",
    "Much of that has to do with a splendid cast, led by Benedict Cumberbatch.\n",
    "Having top-flight actors -- including Chiwetel Ejiofor, Tilda Swinton and Mads Mikkelsen -- is especially helpful with this enterprise.\n",
    "That's because some of the mystical-mumbo-jumbo dialogue -- as in, \"Dormammu dwells in the dark dimension\" -- could sound stilted or silly tripping off less talented tongues.\n",
    "Largely faithful to the comics, the film tells a straightforward origin story -- in hindsight, an area where Marvel has generally excelled.\n",
    "\n",
    "The first \"Iron Man,\" for example, is far more satisfying than either of its sequels.\n",
    "A brilliant neurosurgeon, Dr. Stephen Strange has his million-dollar hands mangled in a terrible car accident.\n",
    "\n",
    "The closing credits might elicit the biggest laugh with a disclaimer warning about the dangers of distracted driving.\n",
    "Desperate to be restored, Strange begins exploring alternative means of healing, a search that ultimately leads him to Nepal, a hidden retreat and a bald sage known as the Ancient One (Tilda Swinton, in glorious-weirdness mode).\n",
    "Aided by her chief lieutenant Mordo (Ejiofor), they train him in the mystic arts.\n",
    "\"\"\"\n",
    "_symbol = [\",\",\":\",\";\",\"?\",\"!\",\"(\",\")\",\"\\\"\",\"$\",\"[\",\"]\",\"{\",\"}\",\"\\n\",\"\\t\",\"-\",\".\"]\n",
    "\n",
    "clean_article = article\n",
    "for i in _symbol:\n",
    "    clean_article = clean_article.replace(i,\" \")\n",
    "for i in range(ord('A'),ord('Z')):\n",
    "    clean_article = clean_article.replace(chr(i),chr(i+32))\n",
    "split_article = clean_article.split(\" \")\n",
    "word = []\n",
    "for word1 in split_article:\n",
    "    if word1 !=\"\" :\n",
    "        word.append(word1)\n",
    "sort_word = sorted(word)\n",
    "new_word = []\n",
    "word_use = []\n",
    "for a in word:\n",
    "    if a not in word_use:\n",
    "        a_c = word.count(a)\n",
    "        b = [a,a_c]\n",
    "        new_word.append(b)\n",
    "        word_use.append(a)\n",
    "print(new_word)    "
   ]
  },
  {
   "cell_type": "code",
   "execution_count": 17,
   "metadata": {
    "collapsed": false
   },
   "outputs": [
    {
     "name": "stdout",
     "output_type": "stream",
     "text": [
      "[['a', 9], ['about', 1], ['accident', 1], ['actors', 1], ['adaptation', 1], ['aided', 1], ['alternative', 1], ['an', 2], ['ancient', 1], ['and', 3], ['area', 1], ['arts', 1], ['as', 2], ['bag', 1], ['bald', 1], ['be', 1], ['because', 1], ['begins', 1], ['benedict', 1], ['biggest', 1], ['braves', 1], ['brilliant', 1], ['but', 1], ['by', 2], ['car', 1], ['cast', 1], ['characters', 1], ['check', 1], ['chief', 1], ['chiwetel', 1], ['closing', 1], ['come', 1], ['comics', 1], ['conjure', 1], ['could', 1], ['credits', 1], ['cumberbatch', 1], ['dangers', 1], ['dark', 1], ['desperate', 1], ['dialogue', 1], ['dimension', 1], ['dip', 1], ['disclaimer', 1], ['distracted', 1], ['do', 1], ['doctor', 1], ['dollar', 1], ['dormammu', 1], ['dr', 1], ['driving', 1], ['dwells', 1], ['each', 1], ['easily', 1], ['either', 1], ['ejiofor', 2], ['elicit', 1], ['enough', 1], ['enterprise', 1], ['entertaining', 1], ['especially', 1], ['example', 1], ['excelled', 1], ['exploring', 1], ['extremely', 1], ['faithful', 1], ['far', 1], ['film', 1], ['first', 1], ['flight', 1], ['footed', 1], ['for', 1], ['generally', 1], ['glorious', 1], ['grab', 1], ['hands', 1], ['has', 3], ['having', 1], ['healing', 1], ['helpful', 1], ['her', 1], ['hidden', 1], ['him', 2], ['hindsight', 1], ['his', 1], ['in', 6], ['including', 1], ['into', 1], ['iron', 1], ['is', 2], ['it', 1], ['its', 3], ['jumbo', 1], ['known', 1], ['largely', 1], ['laugh', 1], ['leads', 1], ['led', 1], ['less', 2], ['lieutenant', 1], ['mads', 1], ['magic', 1], ['man', 1], ['manages', 1], ['mangled', 1], ['marvel', 2], ['means', 1], ['might', 1], ['mikkelsen', 1], ['million', 1], ['mode', 1], ['mordo', 1], ['more', 2], ['much', 1], ['mumbo', 1], ['mystic', 1], ['mystical', 1], ['nepal', 1], ['neurosurgeon', 1], ['of', 6], ['off', 1], ['one', 1], ['or', 1], ['origin', 1], ['pass', 1], ['recognizable', 1], ['restored', 1], ['retreat', 1], ['sage', 1], ['satisfying', 1], ['search', 1], ['second', 1], ['sequels', 1], ['silly', 1], ['some', 1], ['sound', 1], ['spell', 1], ['splendid', 1], ['stephen', 1], ['stilted', 1], ['story', 1], ['straightforward', 1], ['strange', 3], ['stumble', 1], ['sure', 1], ['swinton', 2], ['talented', 1], ['tells', 1], ['terrible', 1], ['than', 2], ['that', 3], [\"that's\", 1], ['the', 10], ['they', 1], ['this', 1], ['tier', 1], ['tilda', 2], ['to', 6], ['tongues', 1], ['top', 1], ['train', 1], ['tripping', 1], ['ultimately', 1], ['warning', 1], ['weirdness', 1], ['where', 1], ['with', 5], [\"won't\", 1]]\n"
     ]
    }
   ],
   "source": [
    "abc = sorted(new_word)\n",
    "print(abc)"
   ]
  },
  {
   "cell_type": "code",
   "execution_count": 30,
   "metadata": {
    "collapsed": false
   },
   "outputs": [
    {
     "name": "stdout",
     "output_type": "stream",
     "text": [
      "[[4, 2], [5, 4], [1, 6], [3, 7]]\n"
     ]
    }
   ],
   "source": [
    "# 以第二個值排序\n",
    "def my_value_sort(item):\n",
    "    return item[1]\n",
    "\n",
    "nested_list_number = [[5,4],[1,6],[3,7],[4,2]]\n",
    "print (sorted(nested_list_number,key=my_value_sort))"
   ]
  },
  {
   "cell_type": "code",
   "execution_count": 32,
   "metadata": {
    "collapsed": false
   },
   "outputs": [
    {
     "name": "stdout",
     "output_type": "stream",
     "text": [
      "['HAPPY', 'Hello', 'hi']\n",
      "['HAPPY', 'Hello', 'hi']\n"
     ]
    }
   ],
   "source": [
    "# 不分大小寫排序\n",
    "def my_string_sort_old(item):\n",
    "    for i in range(ord('A'),ord('Z')+1):\n",
    "        item = item.replace(chr(i),chr(i+32))\n",
    "    return item\n",
    "    \n",
    "def my_string_sort(item):\n",
    "    return item.lower()\n",
    "\n",
    "list_string = [\"hi\",\"Hello\",\"HAPPY\"]\n",
    "print (sorted(list_string,key=my_string_sort_old))\n",
    "print (sorted(list_string,key=my_string_sort))"
   ]
  },
  {
   "cell_type": "code",
   "execution_count": 40,
   "metadata": {
    "collapsed": false
   },
   "outputs": [
    {
     "name": "stdout",
     "output_type": "stream",
     "text": [
      "the 10\n",
      "a 9\n",
      "in 6\n",
      "of 6\n",
      "to 6\n",
      "with 5\n",
      "and 3\n",
      "has 3\n",
      "its 3\n",
      "strange 3\n",
      "that 3\n"
     ]
    }
   ],
   "source": [
    "article = \"\"\"\n",
    "Marvel braves a stumble with each dip into its grab bag of second-tier, less-recognizable characters.\n",
    "But it won't come with \"Doctor Strange,\" an extremely entertaining and sure-footed adaptation that manages to conjure more than enough magic to easily pass its spell check.\n",
    "\n",
    "Much of that has to do with a splendid cast, led by Benedict Cumberbatch.\n",
    "Having top-flight actors -- including Chiwetel Ejiofor, Tilda Swinton and Mads Mikkelsen -- is especially helpful with this enterprise.\n",
    "That's because some of the mystical-mumbo-jumbo dialogue -- as in, \"Dormammu dwells in the dark dimension\" -- could sound stilted or silly tripping off less talented tongues.\n",
    "Largely faithful to the comics, the film tells a straightforward origin story -- in hindsight, an area where Marvel has generally excelled.\n",
    "\n",
    "The first \"Iron Man,\" for example, is far more satisfying than either of its sequels.\n",
    "A brilliant neurosurgeon, Dr. Stephen Strange has his million-dollar hands mangled in a terrible car accident.\n",
    "\n",
    "The closing credits might elicit the biggest laugh with a disclaimer warning about the dangers of distracted driving.\n",
    "Desperate to be restored, Strange begins exploring alternative means of healing, a search that ultimately leads him to Nepal, a hidden retreat and a bald sage known as the Ancient One (Tilda Swinton, in glorious-weirdness mode).\n",
    "Aided by her chief lieutenant Mordo (Ejiofor), they train him in the mystic arts.\n",
    "\"\"\"\n",
    "_symbol = [\",\",\":\",\";\",\"?\",\"!\",\"(\",\")\",\"\\\"\",\"$\",\"[\",\"]\",\"{\",\"}\",\"\\n\",\"\\t\",\"-\",\".\"]\n",
    "\n",
    "clean_article = article\n",
    "for i in _symbol:\n",
    "    clean_article = clean_article.replace(i,\" \")\n",
    "for i in range(ord('A'),ord('Z')):\n",
    "    clean_article = clean_article.replace(chr(i),chr(i+32))\n",
    "split_article = clean_article.split(\" \")\n",
    "word = []\n",
    "for word1 in split_article:\n",
    "    if word1 !=\"\" :\n",
    "        word.append(word1)\n",
    "sort_word = sorted(word)\n",
    "new_word = []\n",
    "word_use = []\n",
    "for a in word:\n",
    "    if a not in word_use:\n",
    "        a_c = word.count(a)\n",
    "        b = [a,a_c]\n",
    "        new_word.append(b)\n",
    "        word_use.append(a)\n",
    "def cba(x):\n",
    "    return -x[1],x[0]\n",
    "for i in sorted(new_word,key = cba):\n",
    "    if i[1]>=3:\n",
    "        print(i[0],i[1])"
   ]
  },
  {
   "cell_type": "code",
   "execution_count": 41,
   "metadata": {
    "collapsed": false
   },
   "outputs": [
    {
     "name": "stdout",
     "output_type": "stream",
     "text": [
      "{'the': 10, 'in': 6, 'a': 9, 'of': 6}\n",
      "{'the': 10, 'in': 6, 'a': 9, 'of': 6}\n",
      "10\n"
     ]
    }
   ],
   "source": [
    "my_dict = {}\n",
    "my_dict[\"the\"] = 10\n",
    "my_dict[\"a\"] = 9\n",
    "my_dict[\"of\"] = 6\n",
    "my_dict[\"in\"] = 6\n",
    "my_dict2 = {\"the\":10,\"a\":9,\"of\":6,\"in\":6}\n",
    "print (my_dict)\n",
    "print (my_dict2)\n",
    "print (my_dict[\"the\"])"
   ]
  },
  {
   "cell_type": "code",
   "execution_count": 47,
   "metadata": {
    "collapsed": false
   },
   "outputs": [
    {
     "name": "stdout",
     "output_type": "stream",
     "text": [
      "{'closing': 1, 'characters': 1, 'stilted': 1, 'mode': 1, 'with': 5, 'brilliant': 1, 'check': 1, 'dwells': 1, 'driving': 1, 'mangled': 1, 'including': 1, 'in': 6, 'adaptation': 1, 'led': 1, 'alternative': 1, 'far': 1, 'do': 1, 'tells': 1, 'mordo': 1, 'retreat': 1, 'braves': 1, 'distracted': 1, 'bald': 1, 'off': 1, \"won't\": 1, 'dark': 1, 'especially': 1, 'largely': 1, 'by': 2, 'leads': 1, 'man': 1, 'lieutenant': 1, 'story': 1, 'restored': 1, 'is': 2, 'train': 1, 'that': 3, 'to': 6, 'marvel': 2, 'of': 6, 'for': 1, 'him': 2, 'benedict': 1, 'disclaimer': 1, 'credits': 1, 'dollar': 1, 'cast': 1, 'has': 3, 'silly': 1, 'helpful': 1, 'first': 1, 'come': 1, 'sage': 1, 'into': 1, 'elicit': 1, 'dip': 1, 'known': 1, 'begins': 1, 'dialogue': 1, 'having': 1, 'hindsight': 1, 'a': 9, 'because': 1, 'ejiofor': 2, 'each': 1, 'might': 1, 'tripping': 1, 'dangers': 1, 'this': 1, 'pass': 1, 'faithful': 1, 'glorious': 1, 'mikkelsen': 1, 'his': 1, 'splendid': 1, 'grab': 1, 'or': 1, 'stumble': 1, 'less': 2, 'the': 10, 'sequels': 1, 'more': 2, 'actors': 1, 'some': 1, 'it': 1, 'laugh': 1, 'neurosurgeon': 1, 'nepal': 1, 'one': 1, 'as': 2, 'dormammu': 1, 'an': 2, 'enough': 1, 'its': 3, 'about': 1, 'talented': 1, 'they': 1, 'exploring': 1, 'sound': 1, 'swinton': 2, 'dimension': 1, 'warning': 1, 'flight': 1, 'mystic': 1, 'origin': 1, 'than': 2, 'recognizable': 1, 'car': 1, 'jumbo': 1, 'hidden': 1, 'bag': 1, 'easily': 1, 'top': 1, 'but': 1, 'mystical': 1, 'strange': 3, 'area': 1, 'desperate': 1, 'stephen': 1, 'iron': 1, 'million': 1, 'footed': 1, 'film': 1, 'aided': 1, 'sure': 1, 'healing': 1, 'weirdness': 1, 'be': 1, 'mads': 1, 'excelled': 1, 'chief': 1, 'tier': 1, 'either': 1, 'means': 1, 'her': 1, 'comics': 1, 'much': 1, 'arts': 1, 'conjure': 1, 'example': 1, 'straightforward': 1, 'terrible': 1, 'manages': 1, 'spell': 1, 'second': 1, 'dr': 1, 'where': 1, 'ultimately': 1, 'mumbo': 1, 'tongues': 1, 'biggest': 1, 'ancient': 1, 'satisfying': 1, 'enterprise': 1, 'hands': 1, 'extremely': 1, 'accident': 1, 'cumberbatch': 1, 'magic': 1, 'could': 1, 'generally': 1, 'entertaining': 1, 'tilda': 2, 'and': 3, 'doctor': 1, \"that's\": 1, 'chiwetel': 1, 'search': 1}\n"
     ]
    }
   ],
   "source": [
    "article = \"\"\"\n",
    "Marvel braves a stumble with each dip into its grab bag of second-tier, less-recognizable characters.\n",
    "But it won't come with \"Doctor Strange,\" an extremely entertaining and sure-footed adaptation that manages to conjure more than enough magic to easily pass its spell check.\n",
    "\n",
    "Much of that has to do with a splendid cast, led by Benedict Cumberbatch.\n",
    "Having top-flight actors -- including Chiwetel Ejiofor, Tilda Swinton and Mads Mikkelsen -- is especially helpful with this enterprise.\n",
    "That's because some of the mystical-mumbo-jumbo dialogue -- as in, \"Dormammu dwells in the dark dimension\" -- could sound stilted or silly tripping off less talented tongues.\n",
    "Largely faithful to the comics, the film tells a straightforward origin story -- in hindsight, an area where Marvel has generally excelled.\n",
    "\n",
    "The first \"Iron Man,\" for example, is far more satisfying than either of its sequels.\n",
    "A brilliant neurosurgeon, Dr. Stephen Strange has his million-dollar hands mangled in a terrible car accident.\n",
    "\n",
    "The closing credits might elicit the biggest laugh with a disclaimer warning about the dangers of distracted driving.\n",
    "Desperate to be restored, Strange begins exploring alternative means of healing, a search that ultimately leads him to Nepal, a hidden retreat and a bald sage known as the Ancient One (Tilda Swinton, in glorious-weirdness mode).\n",
    "Aided by her chief lieutenant Mordo (Ejiofor), they train him in the mystic arts.\n",
    "\"\"\"\n",
    "_symbol = [\",\",\":\",\";\",\"?\",\"!\",\"(\",\")\",\"\\\"\",\"$\",\"[\",\"]\",\"{\",\"}\",\"\\n\",\"\\t\",\"-\",\".\"]\n",
    "\n",
    "clean_article = article\n",
    "for i in _symbol:\n",
    "    clean_article = clean_article.replace(i,\" \")\n",
    "for i in range(ord('A'),ord('Z')):\n",
    "    clean_article = clean_article.replace(chr(i),chr(i+32))\n",
    "split_article = clean_article.split(\" \")\n",
    "\n",
    "new_word = {}\n",
    "word_use = []\n",
    "for a in split_article:\n",
    "    if a and a not in word_use:\n",
    "        a_c = split_article.count(a)\n",
    "        new_word[a]=a_c\n",
    "        word_use.append(a)\n",
    "\n",
    "print(new_word)        "
   ]
  },
  {
   "cell_type": "code",
   "execution_count": 48,
   "metadata": {
    "collapsed": false
   },
   "outputs": [
    {
     "name": "stdout",
     "output_type": "stream",
     "text": [
      "[('the', 10), ('in', 6), ('a', 9), ('of', 6)]\n",
      "<class 'dict_items'>\n",
      "[(0, 10), (1, 9), (2, 6), (3, 6)]\n",
      "<class 'enumerate'>\n"
     ]
    }
   ],
   "source": [
    "my_dict = {\"the\":10,\"a\":9,\"of\":6,\"in\":6}\n",
    "print (list(my_dict.items()))\n",
    "print (type(my_dict.items()))\n",
    "#同時拿索引值＆value\n",
    "my_list = [10,9,6,6]\n",
    "print (list(enumerate(my_list)))\n",
    "print (type(enumerate(my_list)))"
   ]
  },
  {
   "cell_type": "code",
   "execution_count": 49,
   "metadata": {
    "collapsed": false
   },
   "outputs": [
    {
     "name": "stdout",
     "output_type": "stream",
     "text": [
      "Hello\n",
      "Python\n"
     ]
    }
   ],
   "source": [
    "fileout = open(\"test.txt\",'w')\n",
    "fileout.write(\"Hello\"+\"\\n\")\n",
    "fileout.write(\"Python\")\n",
    "fileout.close()\n",
    "\n",
    "filein = open(\"test.txt\")\n",
    "content = filein.read()\n",
    "filein.close()\n",
    "print (content)\n"
   ]
  },
  {
   "cell_type": "code",
   "execution_count": null,
   "metadata": {
    "collapsed": true
   },
   "outputs": [],
   "source": []
  }
 ],
 "metadata": {
  "anaconda-cloud": {},
  "kernelspec": {
   "display_name": "Python [conda root]",
   "language": "python",
   "name": "conda-root-py"
  },
  "language_info": {
   "codemirror_mode": {
    "name": "ipython",
    "version": 3
   },
   "file_extension": ".py",
   "mimetype": "text/x-python",
   "name": "python",
   "nbconvert_exporter": "python",
   "pygments_lexer": "ipython3",
   "version": "3.5.2"
  }
 },
 "nbformat": 4,
 "nbformat_minor": 1
}
