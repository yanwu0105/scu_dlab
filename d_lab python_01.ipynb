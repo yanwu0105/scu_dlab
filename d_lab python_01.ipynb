{
 "cells": [
  {
   "cell_type": "code",
   "execution_count": 2,
   "metadata": {
    "collapsed": false
   },
   "outputs": [
    {
     "name": "stdout",
     "output_type": "stream",
     "text": [
      "hello world\n"
     ]
    }
   ],
   "source": [
    "print(\"hello world\")"
   ]
  },
  {
   "cell_type": "code",
   "execution_count": 3,
   "metadata": {
    "collapsed": false
   },
   "outputs": [
    {
     "name": "stdout",
     "output_type": "stream",
     "text": [
      "97  =  <class 'int'>\n",
      "3.1415926  =  <class 'float'>\n",
      "www.yahoo.com.tw  =  <class 'str'>\n"
     ]
    }
   ],
   "source": [
    "point = 97\n",
    "pi = 3.1415926\n",
    "url = \"www.yahoo.com.tw\"\n",
    "print(type(point))  ### 列出變數型態\n",
    "print(point,\" = \",type(point)) \n",
    "print(pi,\" = \",type(pi))\n",
    "print(url,\" = \",type(url))"
   ]
  },
  {
   "cell_type": "code",
   "execution_count": 4,
   "metadata": {
    "collapsed": false
   },
   "outputs": [
    {
     "name": "stdout",
     "output_type": "stream",
     "text": [
      "176 176\n",
      "16\n"
     ]
    }
   ],
   "source": [
    "a = 96\n",
    "b = 80\n",
    "c = a+b\n",
    "print(a+b,c)\n",
    "print(a-b)"
   ]
  },
  {
   "cell_type": "code",
   "execution_count": 5,
   "metadata": {
    "collapsed": false
   },
   "outputs": [
    {
     "name": "stdout",
     "output_type": "stream",
     "text": [
      "30\n",
      "3.3333333333333335\n",
      "1\n",
      "1000\n"
     ]
    }
   ],
   "source": [
    "print(10*3)\n",
    "print(10/3) ### 除\n",
    "print(10%3) ### 取餘數\n",
    "print(10**3)"
   ]
  },
  {
   "cell_type": "code",
   "execution_count": 7,
   "metadata": {
    "collapsed": false
   },
   "outputs": [
    {
     "name": "stdout",
     "output_type": "stream",
     "text": [
      "2\n",
      "6\n",
      "1\n"
     ]
    }
   ],
   "source": [
    "count = 0\n",
    "count += 2\n",
    "### count += 2 == count = count + 2\n",
    "print(count)\n",
    "count *= 3\n",
    "print(count)\n",
    "count -= 5 \n",
    "print(count)"
   ]
  },
  {
   "cell_type": "code",
   "execution_count": 9,
   "metadata": {
    "collapsed": false
   },
   "outputs": [
    {
     "name": "stdout",
     "output_type": "stream",
     "text": [
      "Hi\n",
      "pyyan\n",
      "pyyan taiwan\n"
     ]
    }
   ],
   "source": [
    "mys = \"Hi\"\n",
    "mys2 =\"\"\n",
    "mys2 = \"py\" + mys2 + \"yan\"\n",
    "mys3 = \"py%s taiwan\"%(\"yan\")\n",
    "### %s 可以彈性填入字串\n",
    "print(mys)\n",
    "print(mys2)\n",
    "print(mys3)\n"
   ]
  },
  {
   "cell_type": "code",
   "execution_count": 10,
   "metadata": {
    "collapsed": false
   },
   "outputs": [
    {
     "name": "stdout",
     "output_type": "stream",
     "text": [
      "\n",
      "我是吳彥輝\n",
      "東吳大學數學系四年級\n",
      "很高興認識大家\n",
      "\n"
     ]
    }
   ],
   "source": [
    "arc = \"\"\" \n",
    "我是吳彥輝\n",
    "東吳大學數學系四年級\n",
    "很高興認識大家\n",
    "\"\"\" ### \"\"\" 長篇文章有換行時可以用三個引號\n",
    "print(arc)"
   ]
  },
  {
   "cell_type": "code",
   "execution_count": 12,
   "metadata": {
    "collapsed": false
   },
   "outputs": [
    {
     "name": "stdout",
     "output_type": "stream",
     "text": [
      "吳彥輝,數學四,02131041\n"
     ]
    }
   ],
   "source": [
    "### 格式化字串\n",
    "sch = (\"%s,數學四,%s\")%(\"吳彥輝\",\"02131041\")\n",
    "print(sch)"
   ]
  },
  {
   "cell_type": "code",
   "execution_count": 13,
   "metadata": {
    "collapsed": false
   },
   "outputs": [
    {
     "name": "stdout",
     "output_type": "stream",
     "text": [
      "123456\n",
      "579\n",
      "5689.123\n"
     ]
    }
   ],
   "source": [
    "input1 = 123\n",
    "input2 = \"456\"\n",
    "input3 = \"5566.123\"\n",
    "print(str(input1)+input2)\n",
    "print(input1+int(input2))\n",
    "print(float(input3)+input1)"
   ]
  },
  {
   "cell_type": "code",
   "execution_count": 14,
   "metadata": {
    "collapsed": false
   },
   "outputs": [
    {
     "name": "stdout",
     "output_type": "stream",
     "text": [
      "a=123\n",
      "b=456\n",
      "a+b= 123456\n"
     ]
    }
   ],
   "source": [
    "a = input(\"a=\") ###輸入的變數為字串\n",
    "b = input(\"b=\")\n",
    "print(\"a+b=\",a+b)"
   ]
  },
  {
   "cell_type": "code",
   "execution_count": 15,
   "metadata": {
    "collapsed": false
   },
   "outputs": [
    {
     "name": "stdout",
     "output_type": "stream",
     "text": [
      "a=2\n",
      "b=3\n",
      "a+b= 5.0\n",
      "a/b= 0.6666666666666666\n",
      "a^b= 8.0\n"
     ]
    }
   ],
   "source": [
    "a = input(\"a=\") \n",
    "b = input(\"b=\")\n",
    "print(\"a+b=\",float(a)+float(b)) ###兩數字相加\n",
    "print(\"a/b=\",float(a)/float(b)) ###兩數字相除\n",
    "print(\"a^b=\",float(a)**float(b)) ###兩數字次方項"
   ]
  },
  {
   "cell_type": "code",
   "execution_count": 18,
   "metadata": {
    "collapsed": false
   },
   "outputs": [
    {
     "name": "stdout",
     "output_type": "stream",
     "text": [
      "['a', 2016, 5566, 'yan']\n",
      "[2016, 'abc']\n"
     ]
    }
   ],
   "source": [
    "my_list = [\"a\" ,2016,5566,\"yan\"]\n",
    "my_list2 = []\n",
    "my_list2.append(2016)\n",
    "my_list2.append(\"abc\")\n",
    "print(my_list)\n",
    "print(my_list2)"
   ]
  },
  {
   "cell_type": "code",
   "execution_count": 21,
   "metadata": {
    "collapsed": false
   },
   "outputs": [
    {
     "name": "stdout",
     "output_type": "stream",
     "text": [
      "5566\n",
      "2016.0\n",
      "2016\n"
     ]
    }
   ],
   "source": [
    "my_list = [\"a\" ,2016,5566,\"yan\",2016,2016.0]\n",
    "print(my_list[2])\n",
    "print(my_list[-1]) ###最後一個\n",
    "print(my_list[-2]) ###倒數第二個"
   ]
  },
  {
   "cell_type": "code",
   "execution_count": 22,
   "metadata": {
    "collapsed": false
   },
   "outputs": [
    {
     "name": "stdout",
     "output_type": "stream",
     "text": [
      "p\n",
      "n\n"
     ]
    }
   ],
   "source": [
    "mys =\"pyyan taiwan\"\n",
    "print(mys[0])\n",
    "print(mys[-1])"
   ]
  },
  {
   "cell_type": "code",
   "execution_count": 23,
   "metadata": {
    "collapsed": false
   },
   "outputs": [
    {
     "name": "stdout",
     "output_type": "stream",
     "text": [
      "12\n",
      "3\n"
     ]
    }
   ],
   "source": [
    "mys =\"pyyan taiwan\"\n",
    "print(len(mys)) ###計算字串長度，空白也算\n",
    "print(mys.count(\"a\")) ###計算元素出現次數"
   ]
  },
  {
   "cell_type": "code",
   "execution_count": 24,
   "metadata": {
    "collapsed": false
   },
   "outputs": [
    {
     "name": "stdout",
     "output_type": "stream",
     "text": [
      "6\n",
      "3\n"
     ]
    }
   ],
   "source": [
    "my_list = [\"a\" ,2016,5566,\"yan\",2016,2016.0]\n",
    "print(len(my_list)) ###計算串列長度\n",
    "print(my_list.count(2016))"
   ]
  },
  {
   "cell_type": "code",
   "execution_count": 25,
   "metadata": {
    "collapsed": false
   },
   "outputs": [
    {
     "name": "stdout",
     "output_type": "stream",
     "text": [
      "pyyAn tAiwAn\n"
     ]
    }
   ],
   "source": [
    "mys =\"pyyan taiwan\"\n",
    "mys = mys.replace(\"a\",\"A\")  ###replace 取代\n",
    "print(mys)\n",
    "mys = mys.replace(\"y\",\"Y\")"
   ]
  },
  {
   "cell_type": "code",
   "execution_count": 30,
   "metadata": {
    "collapsed": false
   },
   "outputs": [
    {
     "name": "stdout",
     "output_type": "stream",
     "text": [
      "['pyyan', 'taiwan']\n"
     ]
    }
   ],
   "source": [
    "mys =\"pyyan taiwan\"\n",
    "print(mys.split(\" \"))"
   ]
  },
  {
   "cell_type": "code",
   "execution_count": 33,
   "metadata": {
    "collapsed": false
   },
   "outputs": [
    {
     "name": "stdout",
     "output_type": "stream",
     "text": [
      "['The', 'Princess', 'jumped', 'up', 'to', 'see', 'who', 'had', 'called', 'her.', 'Now', 'when', 'she', 'caught', 'sight', 'of', 'the', 'frog,', 'she', 'turned', 'very', 'pale.']\n",
      "pale.\n"
     ]
    }
   ],
   "source": [
    "article =\"The Princess jumped up to see who had called her. Now when she caught sight of the frog, she turned very pale.\"\n",
    "article = article.split(\" \")\n",
    "print(article)\n",
    "print(article[-1])"
   ]
  },
  {
   "cell_type": "code",
   "execution_count": 34,
   "metadata": {
    "collapsed": false
   },
   "outputs": [
    {
     "name": "stdout",
     "output_type": "stream",
     "text": [
      "2016-10-17 17:00:00\n",
      "2016-10-11 19:55:00\n",
      "2016-10-18 23:22:05\n"
     ]
    }
   ],
   "source": [
    "###時間正規化練習\n",
    "ebc_datetime = \"2016-10-17 17:00\"\n",
    "back_datetime = \"2016-10-11, 19:55\"\n",
    "ptt_datatime = \"Tue Oct 18 23:22:05 2016\"\n",
    "new_ebc_datetime = ebc_datetime+\":00\"\n",
    "new_back_datetime = back_datetime.replace(\",\",\"\")+\":00\"\n",
    "\n",
    "### ptt\n",
    "ptt = ptt_datatime.split(\" \")\n",
    "ptt_year = ptt[-1]\n",
    "ptt_mon = ptt[1].replace(\"Oct\",\"10\")\n",
    "ptt_day = ptt[2]\n",
    "ptt_time = ptt[3]\n",
    "new_ptt_datetime = ptt_year+ \"-\" +ptt_mon+\"-\"+ptt_day+ \" \" +ptt_time\n",
    "\n",
    "print(new_ebc_datetime)\n",
    "print(new_back_datetime)\n",
    "print(new_ptt_datetime)"
   ]
  },
  {
   "cell_type": "code",
   "execution_count": 36,
   "metadata": {
    "collapsed": false
   },
   "outputs": [
    {
     "name": "stdout",
     "output_type": "stream",
     "text": [
      "1\n"
     ]
    }
   ],
   "source": [
    "article = \"\"\"\n",
    "Bubble tea represents the \"QQ\" food texture that Taiwanese love. \n",
    "The phrase refers to something that is especially chewy, like the tapioca balls that form the 'bubbles' in bubble tea. \n",
    "It's said this unusual drink was invented out of boredom. \n",
    "\"\"\"\n",
    "word_article = article.split(\" \")\n",
    "print(word_article.count(\"in\"))"
   ]
  },
  {
   "cell_type": "code",
   "execution_count": 37,
   "metadata": {
    "collapsed": false
   },
   "outputs": [
    {
     "name": "stdout",
     "output_type": "stream",
     "text": [
      "2\n"
     ]
    }
   ],
   "source": [
    "article = \"\"\"\n",
    "Bubble tea represents the \"QQ\" food texture that Taiwanese love. \n",
    "The phrase refers to something that is especially chewy, like the tapioca balls that form the 'bubbles' in bubble tea. \n",
    "It's said this unusual drink was invented out of boredom. \n",
    "\"\"\"\n",
    "clean_article = article.replace(\",\",\"\").replace(\".\",\"\")\n",
    "word_article = clean_article.split(\" \")\n",
    "print(word_article.count(\"tea\"))"
   ]
  },
  {
   "cell_type": "code",
   "execution_count": 38,
   "metadata": {
    "collapsed": false
   },
   "outputs": [
    {
     "name": "stdout",
     "output_type": "stream",
     "text": [
      "4.0\n",
      "1\n",
      "10.1\n"
     ]
    }
   ],
   "source": [
    "my_list = [3,4.0,2.1,1]\n",
    "print(max(my_list))\n",
    "print(min(my_list))\n",
    "print(sum(my_list))"
   ]
  },
  {
   "cell_type": "code",
   "execution_count": 39,
   "metadata": {
    "collapsed": false
   },
   "outputs": [
    {
     "name": "stdout",
     "output_type": "stream",
     "text": [
      "全隊身高差 = 28\n",
      "全隊身高平均 = 174.71428571428572\n"
     ]
    }
   ],
   "source": [
    "high = [155,183,178,180,173,178,176]\n",
    "avg_high = sum(high)/len(high)\n",
    "print(\"全隊身高差 =\",max(high)-min(high)) \n",
    "print(\"全隊身高平均 =\",avg_high)"
   ]
  },
  {
   "cell_type": "code",
   "execution_count": 40,
   "metadata": {
    "collapsed": false
   },
   "outputs": [
    {
     "name": "stdout",
     "output_type": "stream",
     "text": [
      "py yan taiwan\n"
     ]
    }
   ],
   "source": [
    "mys =[\"py\",\"yan\", \"taiwan\"]\n",
    "print(\" \".join(mys))"
   ]
  },
  {
   "cell_type": "code",
   "execution_count": 41,
   "metadata": {
    "collapsed": false
   },
   "outputs": [
    {
     "name": "stdout",
     "output_type": "stream",
     "text": [
      "date1=10/22\n",
      "date2=10/23\n",
      "date3=10/25\n",
      "我有空的時間： 10/22,10/23,10/25\n"
     ]
    }
   ],
   "source": [
    "free_date = []\n",
    "free_date.append(input(\"date1=\"))\n",
    "free_date.append(input(\"date2=\"))\n",
    "free_date.append(input(\"date3=\"))\n",
    "print(\"我有空的時間：\", \",\".join(free_date))"
   ]
  },
  {
   "cell_type": "code",
   "execution_count": 43,
   "metadata": {
    "collapsed": false
   },
   "outputs": [
    {
     "name": "stdout",
     "output_type": "stream",
     "text": [
      "a>b\n",
      "a is odd\n"
     ]
    }
   ],
   "source": [
    "a = 11 \n",
    "b = 8\n",
    "if (a > b) and (a%2==0): ### a/2 的餘數等於0 (a是偶數) \n",
    "    print(\"a>b\")\n",
    "    print(\"a is even\")\n",
    "elif a>b:\n",
    "    print(\"a>b\")\n",
    "    print(\"a is odd\")\n",
    "else:\n",
    "    print(\"a<b\")"
   ]
  },
  {
   "cell_type": "code",
   "execution_count": 44,
   "metadata": {
    "collapsed": false
   },
   "outputs": [
    {
     "name": "stdout",
     "output_type": "stream",
     "text": [
      "\"pyyan\" found\n",
      "\"taiwan\" found\n"
     ]
    }
   ],
   "source": [
    "mys =\"pyyan taiwan\"\n",
    "if \"pyyan\" in mys:\n",
    "    print(\"\\\"pyyan\\\" found\")\n",
    "if \"taiwan\" in mys:\n",
    "    print(\"\\\"taiwan\\\" found\")\n",
    "    \n",
    "          "
   ]
  },
  {
   "cell_type": "code",
   "execution_count": 45,
   "metadata": {
    "collapsed": false
   },
   "outputs": [
    {
     "name": "stdout",
     "output_type": "stream",
     "text": [
      "\"py\" found\n"
     ]
    }
   ],
   "source": [
    "mys =\"pyyan taiwan\"\n",
    "if \"py\" in mys:\n",
    "    print(\"\\\"py\\\" found\")"
   ]
  },
  {
   "cell_type": "code",
   "execution_count": 59,
   "metadata": {
    "collapsed": false
   },
   "outputs": [
    {
     "name": "stdout",
     "output_type": "stream",
     "text": [
      "2016-10-18 22:33:00\n"
     ]
    }
   ],
   "source": [
    "###總練習\n",
    "\n",
    "# 日期正規化 (年-月-日 時:分:秒)\n",
    "yahoo_datetime = \"2016年10月18日 下午10:33\"\n",
    "clean_yahoo_date = yahoo_datetime.replace(\"年\",\" \").replace(\"月\",\" \").replace(\"日\",\"\").replace(\"下午\",\"\")\n",
    "yahoo_date = clean_yahoo_date.split(\" \")\n",
    "### date\n",
    "new_year = yahoo_date[0]\n",
    "new_mon = yahoo_date[1]\n",
    "new_day = yahoo_date[2]\n",
    "new_date = yahoo_date[0]+\"-\"+yahoo_date[1]+\"-\"+yahoo_date[2]\n",
    "### time\n",
    "old_time = yahoo_date[-1]\n",
    "clean_time=old_time.split(\":\")\n",
    "new_time = str(int(clean_time[0])+12)+\":\"+clean_time[1]+\":00\"\n",
    "\n",
    "print(new_date, new_time)\n"
   ]
  },
  {
   "cell_type": "code",
   "execution_count": null,
   "metadata": {
    "collapsed": true
   },
   "outputs": [],
   "source": []
  },
  {
   "cell_type": "code",
   "execution_count": 62,
   "metadata": {
    "collapsed": false
   },
   "outputs": [
    {
     "name": "stdout",
     "output_type": "stream",
     "text": [
      "2016-10-18 22:33:00\n"
     ]
    }
   ],
   "source": [
    "### 解答\n",
    "# 日期正規化 (年-月-日 時:分:秒)\n",
    "yahoo_datetime = \"2016年10月18日 下午10:33\"\n",
    "clean_yahoo_date =yahoo_datetime.split(\" \")[0].replace(\"年\",\"-\").replace(\"月\",\"-\")\n",
    "new_yahoo_date =clean_yahoo_date.replace(\"日\",\"\")\n",
    "clean_yahoo_time = yahoo_datetime.split(\" \")[-1]\n",
    "new_hour = clean_yahoo_time.split(\":\")[0]\n",
    "new_min = clean_yahoo_time.split(\":\")[-1]\n",
    "\n",
    "if \"下午\" in new_hour:\n",
    "    new_hour = str(int(new_hour.replace(\"下午\" , \"\"))+12)\n",
    "else:\n",
    "    new_hour = str(int(new_hour.replace(\"上午\" , \"\")))\n",
    "new_yahoo_datetime = new_yahoo_date+\" \"+new_hour+\":\"+new_min+\":00\"\n",
    "print(new_yahoo_datetime)"
   ]
  },
  {
   "cell_type": "code",
   "execution_count": 24,
   "metadata": {
    "collapsed": false
   },
   "outputs": [
    {
     "name": "stdout",
     "output_type": "stream",
     "text": [
      "waht do u want countting:2**3\n",
      "2**3 = 8\n"
     ]
    }
   ],
   "source": [
    "###練習題 簡易型計算機\n",
    "want_count = input(\"waht do u want countting:\")\n",
    "if \"+\" in want_count:\n",
    "    a = want_count.split(\"+\")[0]\n",
    "    b = want_count.split(\"+\")[1]\n",
    "    print(want_count+\" =\",int(a)+int(b))\n",
    "elif \"-\" in want_count:\n",
    "    a = want_count.split(\"-\")[0]\n",
    "    b = want_count.split(\"-\")[1]\n",
    "    print(want_count+\" =\",int(a)-int(b))\n",
    "elif \"**\" in want_count:\n",
    "    a = want_count.split(\"**\")[0]\n",
    "    b = want_count.split(\"**\")[1]\n",
    "    print(want_count+\" =\",int(a)**int(b))\n",
    "elif \"*\" in want_count:\n",
    "    a = want_count.split(\"*\")[0]\n",
    "    b = want_count.split(\"*\")[1] \n",
    "    print(want_count+\" =\",int(a)*int(b))\n",
    "elif \"/\" in want_count:\n",
    "    a = want_count.split(\"/\")[0]\n",
    "    b = want_count.split(\"/\")[1]\n",
    "    print(want_count+\" =\",int(a)+int(b))\n",
    "elif \"%\" in want_count:\n",
    "    a = want_count.split(\"%\")[0]\n",
    "    b = want_count.split(\"%\")[1]\n",
    "    print(want_count+\" =\",int(a)%int(b))\n",
    "else:\n",
    "    print(\"I can't countting! SORRY!\")"
   ]
  },
  {
   "cell_type": "code",
   "execution_count": 92,
   "metadata": {
    "collapsed": false
   },
   "outputs": [
    {
     "name": "stdout",
     "output_type": "stream",
     "text": [
      "3.1416\n"
     ]
    }
   ],
   "source": [
    "###取小數點後n位\n",
    "pi = 3.1415926\n",
    "pi2 = round(pi,4)\n",
    "print(pi2)"
   ]
  },
  {
   "cell_type": "code",
   "execution_count": 2,
   "metadata": {
    "collapsed": false,
    "scrolled": true
   },
   "outputs": [
    {
     "name": "stdout",
     "output_type": "stream",
     "text": [
      "88\n",
      "checkio(88) == \"88\"\n"
     ]
    }
   ],
   "source": [
    "###\"Fizz buzz\"\n",
    "num = input()\n",
    "int_num = int(num)\n",
    "if (int_num% 3 == 0) and (int_num% 5 == 0):\n",
    "    print(\"checkio(\"+num+\") == \"+\"\\\"Fizz Buzz\\\"\")\n",
    "elif (int_num% 3 == 0):\n",
    "    print(\"checkio(\"+num+\") == \"+\"\\\"Fizz\\\"\")\n",
    "elif (int_num% 5 == 0):\n",
    "    print(\"checkio(\"+num+\") == \"+\"\\\"Buzz\\\"\")\n",
    "else :\n",
    "    print(\"checkio(\"+num+\") == \"+'\"'+num+'\"')"
   ]
  },
  {
   "cell_type": "code",
   "execution_count": 49,
   "metadata": {
    "collapsed": false
   },
   "outputs": [
    {
     "name": "stdout",
     "output_type": "stream",
     "text": [
      "You want know Index Power the list [array]= 1,3,10,100\n",
      "You want know Index Power the N= 3\n",
      "index_power([1,3,10,100],3) == 64\n"
     ]
    }
   ],
   "source": [
    "list_array = input(\"You want know Index Power the list [array]= \")\n",
    "n = input(\"You want know Index Power the N= \")\n",
    "if (len(clean_list_array)>= int(n)):\n",
    "    print(\"index_power([\" + list_array + \"],\" + n + \") ==\", int((clean_list_array[int(n)]))**int(n))    \n",
    "    "
   ]
  },
  {
   "cell_type": "code",
   "execution_count": 47,
   "metadata": {
    "collapsed": false
   },
   "outputs": [
    {
     "name": "stdout",
     "output_type": "stream",
     "text": [
      "You want know Index Power the list [array]= 1\n",
      "You want know Index Power the list [array]= 2\n",
      "You want know Index Power the list [array]= \n",
      "You want know Index Power the list [array]= 2\n",
      "You want know Index Power the list [array]= 3\n",
      "You want know Index Power the list [array]= \n",
      "['1', '2', '', '3']\n",
      "You want know Index Power the list [array]= \n",
      "['1', '2', '', '3']\n",
      "You want know Index Power the list [array]= \n",
      "['1', '2', '', '3']\n",
      "You want know Index Power the list [array]= \n",
      "['1', '2', '', '3']\n",
      "You want know Index Power the list [array]= \n",
      "['1', '2', '', '3']\n",
      "You want know Index Power the list [array]= \n",
      "['1', '2', '', '3']\n",
      "You want know Index Power the list [array]= \n",
      "['1', '2', '', '3']\n",
      "You want know Index Power the list [array]= \n",
      "['1', '2', '', '3']\n",
      "You want know Index Power the list [array]= \n",
      "['1', '2', '', '3']\n",
      "You want know Index Power the list [array]= \n",
      "['1', '2', '', '3']\n",
      "You want know Index Power the list [array]= \n",
      "['1', '2', '', '3']\n"
     ]
    },
    {
     "ename": "KeyboardInterrupt",
     "evalue": "",
     "output_type": "error",
     "traceback": [
      "\u001b[0;31m---------------------------------------------------------------------------\u001b[0m",
      "\u001b[0;31mKeyboardInterrupt\u001b[0m                         Traceback (most recent call last)",
      "\u001b[0;32m/Users/wuyanhui/anaconda/lib/python3.5/site-packages/ipykernel/kernelbase.py\u001b[0m in \u001b[0;36m_input_request\u001b[0;34m(self, prompt, ident, parent, password)\u001b[0m\n\u001b[1;32m    714\u001b[0m             \u001b[0;32mtry\u001b[0m\u001b[0;34m:\u001b[0m\u001b[0;34m\u001b[0m\u001b[0m\n\u001b[0;32m--> 715\u001b[0;31m                 \u001b[0mident\u001b[0m\u001b[0;34m,\u001b[0m \u001b[0mreply\u001b[0m \u001b[0;34m=\u001b[0m \u001b[0mself\u001b[0m\u001b[0;34m.\u001b[0m\u001b[0msession\u001b[0m\u001b[0;34m.\u001b[0m\u001b[0mrecv\u001b[0m\u001b[0;34m(\u001b[0m\u001b[0mself\u001b[0m\u001b[0;34m.\u001b[0m\u001b[0mstdin_socket\u001b[0m\u001b[0;34m,\u001b[0m \u001b[0;36m0\u001b[0m\u001b[0;34m)\u001b[0m\u001b[0;34m\u001b[0m\u001b[0m\n\u001b[0m\u001b[1;32m    716\u001b[0m             \u001b[0;32mexcept\u001b[0m \u001b[0mException\u001b[0m\u001b[0;34m:\u001b[0m\u001b[0;34m\u001b[0m\u001b[0m\n",
      "\u001b[0;32m/Users/wuyanhui/anaconda/lib/python3.5/site-packages/jupyter_client/session.py\u001b[0m in \u001b[0;36mrecv\u001b[0;34m(self, socket, mode, content, copy)\u001b[0m\n\u001b[1;32m    738\u001b[0m         \u001b[0;32mtry\u001b[0m\u001b[0;34m:\u001b[0m\u001b[0;34m\u001b[0m\u001b[0m\n\u001b[0;32m--> 739\u001b[0;31m             \u001b[0mmsg_list\u001b[0m \u001b[0;34m=\u001b[0m \u001b[0msocket\u001b[0m\u001b[0;34m.\u001b[0m\u001b[0mrecv_multipart\u001b[0m\u001b[0;34m(\u001b[0m\u001b[0mmode\u001b[0m\u001b[0;34m,\u001b[0m \u001b[0mcopy\u001b[0m\u001b[0;34m=\u001b[0m\u001b[0mcopy\u001b[0m\u001b[0;34m)\u001b[0m\u001b[0;34m\u001b[0m\u001b[0m\n\u001b[0m\u001b[1;32m    740\u001b[0m         \u001b[0;32mexcept\u001b[0m \u001b[0mzmq\u001b[0m\u001b[0;34m.\u001b[0m\u001b[0mZMQError\u001b[0m \u001b[0;32mas\u001b[0m \u001b[0me\u001b[0m\u001b[0;34m:\u001b[0m\u001b[0;34m\u001b[0m\u001b[0m\n",
      "\u001b[0;32m/Users/wuyanhui/anaconda/lib/python3.5/site-packages/zmq/sugar/socket.py\u001b[0m in \u001b[0;36mrecv_multipart\u001b[0;34m(self, flags, copy, track)\u001b[0m\n\u001b[1;32m    394\u001b[0m         \"\"\"\n\u001b[0;32m--> 395\u001b[0;31m         \u001b[0mparts\u001b[0m \u001b[0;34m=\u001b[0m \u001b[0;34m[\u001b[0m\u001b[0mself\u001b[0m\u001b[0;34m.\u001b[0m\u001b[0mrecv\u001b[0m\u001b[0;34m(\u001b[0m\u001b[0mflags\u001b[0m\u001b[0;34m,\u001b[0m \u001b[0mcopy\u001b[0m\u001b[0;34m=\u001b[0m\u001b[0mcopy\u001b[0m\u001b[0;34m,\u001b[0m \u001b[0mtrack\u001b[0m\u001b[0;34m=\u001b[0m\u001b[0mtrack\u001b[0m\u001b[0;34m)\u001b[0m\u001b[0;34m]\u001b[0m\u001b[0;34m\u001b[0m\u001b[0m\n\u001b[0m\u001b[1;32m    396\u001b[0m         \u001b[0;31m# have first part already, only loop while more to receive\u001b[0m\u001b[0;34m\u001b[0m\u001b[0;34m\u001b[0m\u001b[0m\n",
      "\u001b[0;32mzmq/backend/cython/socket.pyx\u001b[0m in \u001b[0;36mzmq.backend.cython.socket.Socket.recv (zmq/backend/cython/socket.c:7291)\u001b[0;34m()\u001b[0m\n",
      "\u001b[0;32mzmq/backend/cython/socket.pyx\u001b[0m in \u001b[0;36mzmq.backend.cython.socket.Socket.recv (zmq/backend/cython/socket.c:7089)\u001b[0;34m()\u001b[0m\n",
      "\u001b[0;32mzmq/backend/cython/socket.pyx\u001b[0m in \u001b[0;36mzmq.backend.cython.socket._recv_copy (zmq/backend/cython/socket.c:2041)\u001b[0;34m()\u001b[0m\n",
      "\u001b[0;32m/Users/wuyanhui/anaconda/lib/python3.5/site-packages/zmq/backend/cython/checkrc.pxd\u001b[0m in \u001b[0;36mzmq.backend.cython.checkrc._check_rc (zmq/backend/cython/socket.c:9229)\u001b[0;34m()\u001b[0m\n",
      "\u001b[0;31mKeyboardInterrupt\u001b[0m: ",
      "\nDuring handling of the above exception, another exception occurred:\n",
      "\u001b[0;31mKeyboardInterrupt\u001b[0m                         Traceback (most recent call last)",
      "\u001b[0;32m<ipython-input-47-53a81d8e9ce3>\u001b[0m in \u001b[0;36m<module>\u001b[0;34m()\u001b[0m\n\u001b[1;32m      1\u001b[0m \u001b[0mmy_list\u001b[0m \u001b[0;34m=\u001b[0m \u001b[0;34m[\u001b[0m\u001b[0;34m]\u001b[0m\u001b[0;34m\u001b[0m\u001b[0m\n\u001b[1;32m      2\u001b[0m \u001b[0;32mwhile\u001b[0m\u001b[0;34m(\u001b[0m\u001b[0mlen\u001b[0m\u001b[0;34m(\u001b[0m\u001b[0mmy_list\u001b[0m\u001b[0;34m)\u001b[0m\u001b[0;34m<\u001b[0m\u001b[0;36m10\u001b[0m\u001b[0;34m)\u001b[0m\u001b[0;34m:\u001b[0m\u001b[0;34m\u001b[0m\u001b[0m\n\u001b[0;32m----> 3\u001b[0;31m     \u001b[0mlist_array\u001b[0m \u001b[0;34m=\u001b[0m \u001b[0minput\u001b[0m\u001b[0;34m(\u001b[0m\u001b[0;34m\"You want know Index Power the list [array]= \"\u001b[0m\u001b[0;34m)\u001b[0m\u001b[0;34m\u001b[0m\u001b[0m\n\u001b[0m\u001b[1;32m      4\u001b[0m     \u001b[0;32mif\u001b[0m \u001b[0mlist_array\u001b[0m \u001b[0;32mnot\u001b[0m \u001b[0;32min\u001b[0m \u001b[0mmy_list\u001b[0m\u001b[0;34m:\u001b[0m\u001b[0;34m\u001b[0m\u001b[0m\n\u001b[1;32m      5\u001b[0m         \u001b[0mmy_list\u001b[0m\u001b[0;34m.\u001b[0m\u001b[0mappend\u001b[0m\u001b[0;34m(\u001b[0m\u001b[0mlist_array\u001b[0m\u001b[0;34m)\u001b[0m\u001b[0;34m\u001b[0m\u001b[0m\n",
      "\u001b[0;32m/Users/wuyanhui/anaconda/lib/python3.5/site-packages/ipykernel/kernelbase.py\u001b[0m in \u001b[0;36mraw_input\u001b[0;34m(self, prompt)\u001b[0m\n\u001b[1;32m    688\u001b[0m             \u001b[0mself\u001b[0m\u001b[0;34m.\u001b[0m\u001b[0m_parent_ident\u001b[0m\u001b[0;34m,\u001b[0m\u001b[0;34m\u001b[0m\u001b[0m\n\u001b[1;32m    689\u001b[0m             \u001b[0mself\u001b[0m\u001b[0;34m.\u001b[0m\u001b[0m_parent_header\u001b[0m\u001b[0;34m,\u001b[0m\u001b[0;34m\u001b[0m\u001b[0m\n\u001b[0;32m--> 690\u001b[0;31m             \u001b[0mpassword\u001b[0m\u001b[0;34m=\u001b[0m\u001b[0;32mFalse\u001b[0m\u001b[0;34m,\u001b[0m\u001b[0;34m\u001b[0m\u001b[0m\n\u001b[0m\u001b[1;32m    691\u001b[0m         )\n\u001b[1;32m    692\u001b[0m \u001b[0;34m\u001b[0m\u001b[0m\n",
      "\u001b[0;32m/Users/wuyanhui/anaconda/lib/python3.5/site-packages/ipykernel/kernelbase.py\u001b[0m in \u001b[0;36m_input_request\u001b[0;34m(self, prompt, ident, parent, password)\u001b[0m\n\u001b[1;32m    718\u001b[0m             \u001b[0;32mexcept\u001b[0m \u001b[0mKeyboardInterrupt\u001b[0m\u001b[0;34m:\u001b[0m\u001b[0;34m\u001b[0m\u001b[0m\n\u001b[1;32m    719\u001b[0m                 \u001b[0;31m# re-raise KeyboardInterrupt, to truncate traceback\u001b[0m\u001b[0;34m\u001b[0m\u001b[0;34m\u001b[0m\u001b[0m\n\u001b[0;32m--> 720\u001b[0;31m                 \u001b[0;32mraise\u001b[0m \u001b[0mKeyboardInterrupt\u001b[0m\u001b[0;34m\u001b[0m\u001b[0m\n\u001b[0m\u001b[1;32m    721\u001b[0m             \u001b[0;32melse\u001b[0m\u001b[0;34m:\u001b[0m\u001b[0;34m\u001b[0m\u001b[0m\n\u001b[1;32m    722\u001b[0m                 \u001b[0;32mbreak\u001b[0m\u001b[0;34m\u001b[0m\u001b[0m\n",
      "\u001b[0;31mKeyboardInterrupt\u001b[0m: "
     ]
    }
   ],
   "source": [
    "my_list = []\n",
    "while(len(my_list)<10):\n",
    "    list_array = input(\"You want know Index Power the list [array]= \")\n",
    "    if list_array not in my_list:\n",
    "        my_list.append(list_array)\n",
    "    elif list_array == \"\":\n",
    "        print(my_list)\n",
    "        "
   ]
  },
  {
   "cell_type": "code",
   "execution_count": null,
   "metadata": {
    "collapsed": true
   },
   "outputs": [],
   "source": []
  }
 ],
 "metadata": {
  "anaconda-cloud": {},
  "kernelspec": {
   "display_name": "Python [default]",
   "language": "python",
   "name": "python3"
  },
  "language_info": {
   "codemirror_mode": {
    "name": "ipython",
    "version": 3
   },
   "file_extension": ".py",
   "mimetype": "text/x-python",
   "name": "python",
   "nbconvert_exporter": "python",
   "pygments_lexer": "ipython3",
   "version": "3.5.2"
  }
 },
 "nbformat": 4,
 "nbformat_minor": 1
}
